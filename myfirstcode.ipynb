{
 "metadata": {
  "language_info": {
   "codemirror_mode": {
    "name": "ipython",
    "version": 3
   },
   "file_extension": ".py",
   "mimetype": "text/x-python",
   "name": "python",
   "nbconvert_exporter": "python",
   "pygments_lexer": "ipython3",
   "version": "3.9.5"
  },
  "orig_nbformat": 2,
  "kernelspec": {
   "name": "python395jvsc74a57bd0e747c1b2a425e9c7e9357ace07a8917e85cb1230d3ee28a57f5aa2403637166f",
   "display_name": "Python 3.9.5 64-bit"
  },
  "metadata": {
   "interpreter": {
    "hash": "e747c1b2a425e9c7e9357ace07a8917e85cb1230d3ee28a57f5aa2403637166f"
   }
  }
 },
 "nbformat": 4,
 "nbformat_minor": 2,
 "cells": [
  {
   "cell_type": "code",
   "execution_count": 2,
   "metadata": {},
   "outputs": [
    {
     "output_type": "stream",
     "name": "stdout",
     "text": [
      "19\n<class 'int'>\n"
     ]
    }
   ],
   "source": [
    "age = int(input('Please enter your age;'))\n",
    "print(age)\n",
    "print(type(age))"
   ]
  },
  {
   "cell_type": "code",
   "execution_count": 3,
   "metadata": {},
   "outputs": [
    {
     "output_type": "stream",
     "name": "stdout",
     "text": [
      "1.83\n<class 'float'>\n"
     ]
    }
   ],
   "source": [
    "#Floating Points\n",
    "exchange_rate = 1.83\n",
    "print(exchange_rate)\n",
    "print(type(exchange_rate))"
   ]
  },
  {
   "cell_type": "code",
   "execution_count": 5,
   "metadata": {},
   "outputs": [
    {
     "output_type": "stream",
     "name": "stdout",
     "text": [
      "int value as a float; 1.0\n<class 'float'>\nstring value as a float; 1.5\n<class 'float'>\n"
     ]
    }
   ],
   "source": [
    "#Converting to Floats\n",
    "int_value = 1\n",
    "string_value = '1.5'\n",
    "float_value = float(int_value)\n",
    "print('int value as a float;', float_value)\n",
    "print(type(float_value))\n",
    "float_value = float(string_value)\n",
    "print('string value as a float;', float_value)\n",
    "print(type(float_value))"
   ]
  },
  {
   "cell_type": "code",
   "execution_count": null,
   "metadata": {},
   "outputs": [],
   "source": []
  }
 ]
}