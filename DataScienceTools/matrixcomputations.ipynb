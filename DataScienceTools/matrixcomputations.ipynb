{
 "metadata": {
  "language_info": {
   "codemirror_mode": {
    "name": "ipython",
    "version": 3
   },
   "file_extension": ".py",
   "mimetype": "text/x-python",
   "name": "python",
   "nbconvert_exporter": "python",
   "pygments_lexer": "ipython3",
   "version": "3.9.5"
  },
  "orig_nbformat": 4,
  "kernelspec": {
   "name": "python3",
   "display_name": "Python 3.9.5 64-bit"
  },
  "interpreter": {
   "hash": "e747c1b2a425e9c7e9357ace07a8917e85cb1230d3ee28a57f5aa2403637166f"
  }
 },
 "nbformat": 4,
 "nbformat_minor": 2,
 "cells": [
  {
   "cell_type": "code",
   "execution_count": 3,
   "metadata": {},
   "outputs": [],
   "source": [
    "#import numpy library\n",
    "import numpy as np"
   ]
  },
  {
   "cell_type": "code",
   "execution_count": 6,
   "metadata": {},
   "outputs": [
    {
     "output_type": "stream",
     "name": "stdout",
     "text": [
      "[[1 5 6]\n [8 5 9]\n [1 0 3]] \n\n[[12 20 -3]\n [ 5 -8  5]\n [ 6  9 17]]\n"
     ]
    }
   ],
   "source": [
    "#Create two square matrices\n",
    "X = np.array([[1,5,6],[8,5,9],[1,0,3]])\n",
    "Z = np.array([[12,20,-3],[5,-8,5],[6,9,17]])\n",
    "print(X, '\\n')\n",
    "print(Z)"
   ]
  },
  {
   "cell_type": "code",
   "execution_count": 8,
   "metadata": {},
   "outputs": [
    {
     "output_type": "stream",
     "name": "stdout",
     "text": [
      "[[13 25  3]\n [13 -3 14]\n [ 7  9 20]] \n\n[[-11 -15   9]\n [  3  13   4]\n [ -5  -9 -14]]\n"
     ]
    }
   ],
   "source": [
    "#Add and subtract the matrices X and Z\n",
    "r_added = X.__add__(Z)\n",
    "r_subtract = X.__sub__(Z)\n",
    "print(r_added, '\\n')\n",
    "print(r_subtract)"
   ]
  },
  {
   "cell_type": "code",
   "execution_count": null,
   "metadata": {},
   "outputs": [],
   "source": [
    "#Piecewise multiplication and multiplication of two matrices\n",
    "r_piecewise = X.__mul__(Z)\n",
    "r_mul = X.__matmul__(Z)\n",
    "print(r_piecewise, '\\n')\n",
    "print(r_mul)"
   ]
  },
  {
   "cell_type": "code",
   "execution_count": null,
   "metadata": {},
   "outputs": [],
   "source": []
  }
 ]
}