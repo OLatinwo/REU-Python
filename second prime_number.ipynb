{
 "metadata": {
  "language_info": {
   "codemirror_mode": {
    "name": "ipython",
    "version": 3
   },
   "file_extension": ".py",
   "mimetype": "text/x-python",
   "name": "python",
   "nbconvert_exporter": "python",
   "pygments_lexer": "ipython3",
   "version": "3.9.5"
  },
  "orig_nbformat": 4,
  "kernelspec": {
   "name": "python3",
   "display_name": "Python 3.9.5 64-bit"
  },
  "interpreter": {
   "hash": "e747c1b2a425e9c7e9357ace07a8917e85cb1230d3ee28a57f5aa2403637166f"
  }
 },
 "nbformat": 4,
 "nbformat_minor": 2,
 "cells": [
  {
   "cell_type": "code",
   "execution_count": 30,
   "metadata": {},
   "outputs": [
    {
     "output_type": "stream",
     "name": "stdout",
     "text": [
      "1\n2\n3\n5\n7\n"
     ]
    }
   ],
   "source": [
    "num = int(input('Please enter a number greater than or equal to 2'))\n",
    "print('1')\n",
    "for x in range(0,num+1):\n",
    "   if x > 1:\n",
    "       for i in range(2,x):\n",
    "           if (x%i)==0:\n",
    "               break\n",
    "       else:\n",
    "           print(x)"
   ]
  }
 ]
}